{
 "cells": [
  {
   "cell_type": "markdown",
   "id": "ccbdb746",
   "metadata": {},
   "source": [
    "# Risk Analytics - Fire Perimeter Intersections\n",
    "\n",
    "The code is a Python script that uses several libraries including Pandas, GeoPandas, and Folium to create a map of property locations and fire perimeters. It performs several steps, including:\n",
    "\n",
    "-Loading wildfire perimeters shapefile and state boundary shapefile into geopandas dataframes\n",
    "\n",
    "-Filtering the state boundaries shapefile to only include states of interest and reprojecting it to match the CRS of the wildfire perimeters shapefile\n",
    "\n",
    "-Performing a spatial join to keep only fire perimeters within the states of interest\n",
    "\n",
    "-Loading an Excel file with property locations into a pandas dataframe and converting it to a geopandas dataframe with a Point geometry column\n",
    "\n",
    "-Performing a spatial join between the property locations and fire perimeters geodataframes to assign each property to a fire perimeter\n",
    "\n",
    "-Grouping the property locations by fire perimeter to count the number of properties in each fire perimeter\n",
    "\n",
    "-Merging the fire perimeter geodataframe with the property counts dataframe\n",
    "\n",
    "-Performing another spatial join between the fire perimeters and property locations\n",
    "\n",
    "-Counting the number of property locations per fire perimeter and sorting the fire perimeters by the count of properties in each perimeter\n",
    "\n",
    "-Printing the counts for each fire perimeter in descending order\n",
    "\n",
    "-Creating a dictionary to store the ObjectID and associated fire of properties within fire perimeters \n",
    "\n",
    "-Looping through the fire perimeters and their OBJECTID to find the associated properties and store them in the dictionary\n",
    "\n",
    "-Creating a folium map and adding the fire perimeters and property locations to it\n",
    "\n",
    "-Displaying the map and saving it to an HTML file."
   ]
  },
  {
   "cell_type": "code",
   "execution_count": null,
   "id": "75cdd2fa",
   "metadata": {},
   "outputs": [],
   "source": [
    "import pandas as pd\n",
    "import geopandas as gpd\n",
    "import folium\n",
    "import shapely\n",
    "from shapely.geometry import Point"
   ]
  },
  {
   "cell_type": "code",
   "execution_count": null,
   "id": "766bbc2c",
   "metadata": {},
   "outputs": [],
   "source": [
    "# Load the wildfire perimeters shapefile into a geopandas dataframe\n",
    "fire_perimeters_gdf = gpd.read_file('G:\\\\.shortcut-targets-by-id\\\\1TNkujbZ3vYE5Jr61hgbT7tHPCKankget\\\\Pilots\\\\2.0 RAC Operations\\\\Shapefiles\\\\WFIGS_-_Wildland_Fire_Perimeters_Full_History\\\\FH_Perimeter.shp')"
   ]
  },
  {
   "cell_type": "code",
   "execution_count": null,
   "id": "0c60c83c",
   "metadata": {
    "scrolled": true
   },
   "outputs": [],
   "source": [
    "# Print the column names in the GeoDataFrame\n",
    "print(fire_perimeters_gdf.columns)"
   ]
  },
  {
   "cell_type": "code",
   "execution_count": null,
   "id": "b9a1dea9",
   "metadata": {},
   "outputs": [],
   "source": [
    "# Load state boundary shapefile into a geopandas dataframe\n",
    "state_boundaries_gdf = gpd.read_file('G:\\\\.shortcut-targets-by-id\\\\1TNkujbZ3vYE5Jr61hgbT7tHPCKankget\\\\Pilots\\\\2.0 RAC Operations\\\\Shapefiles\\\\US_States\\\\cb_2018_us_state_500k.shp')"
   ]
  },
  {
   "cell_type": "code",
   "execution_count": null,
   "id": "1aa762b0",
   "metadata": {},
   "outputs": [],
   "source": [
    "# Print the column names in the GeoDataFrame\n",
    "print(state_boundaries_gdf.columns)"
   ]
  },
  {
   "cell_type": "code",
   "execution_count": null,
   "id": "1ad39710",
   "metadata": {},
   "outputs": [],
   "source": [
    "# Filter the state boundaries shapefile to only include the states you care about\n",
    "states_of_interest = ['CA'] \n",
    "state_boundaries_gdf = state_boundaries_gdf[state_boundaries_gdf['STUSPS'].isin(states_of_interest)]"
   ]
  },
  {
   "cell_type": "code",
   "execution_count": null,
   "id": "96b83352",
   "metadata": {},
   "outputs": [],
   "source": [
    "# Reproject the state boundaries shapefile to match the CRS of the fire perimeters shapefile\n",
    "state_boundaries_gdf = state_boundaries_gdf.to_crs(fire_perimeters_gdf.crs)"
   ]
  },
  {
   "cell_type": "code",
   "execution_count": null,
   "id": "583700da",
   "metadata": {},
   "outputs": [],
   "source": [
    "# Perform a spatial join to keep only fire perimeters within states of interest\n",
    "fire_perimeters_filtered_gdf = gpd.sjoin(\n",
    "    fire_perimeters_gdf.to_crs(state_boundaries_gdf.crs),\n",
    "    state_boundaries_gdf,\n",
    "    how='inner',\n",
    "    predicate='intersects',\n",
    "    lsuffix='fire',\n",
    "    rsuffix='state'\n",
    ")"
   ]
  },
  {
   "cell_type": "code",
   "execution_count": null,
   "id": "cd41a958",
   "metadata": {},
   "outputs": [],
   "source": [
    "print(fire_perimeters_filtered_gdf.columns)"
   ]
  },
  {
   "cell_type": "code",
   "execution_count": null,
   "id": "ef34b016",
   "metadata": {},
   "outputs": [],
   "source": [
    "# Load the excel file with property locations into a pandas dataframe\n",
    "property_locations_df = pd.read_excel('C:\\\\Users\\RossMartin\\\\Desktop\\\\1024_travelers_zfire_final_TOP3.xlsx')"
   ]
  },
  {
   "cell_type": "code",
   "execution_count": null,
   "id": "9584239c",
   "metadata": {},
   "outputs": [],
   "source": [
    "# Convert the property locations dataframe to a geopandas dataframe by creating a Point geometry column\n",
    "property_locations_gdf = gpd.GeoDataFrame(\n",
    "    property_locations_df,\n",
    "    geometry=gpd.points_from_xy(property_locations_df.Longitude, property_locations_df.Latitude),\n",
    "    crs='EPSG:4326'  # specify the coordinate reference system (CRS) of the geodataframe\n",
    ")"
   ]
  },
  {
   "cell_type": "code",
   "execution_count": null,
   "id": "2675b6d7",
   "metadata": {},
   "outputs": [],
   "source": [
    "# Perform a spatial join between the property locations and fire perimeters geodataframes to assign each property to a fire perimeter\n",
    "property_locations_joined = gpd.sjoin(property_locations_gdf, fire_perimeters_filtered_gdf, how='left', predicate='within')"
   ]
  },
  {
   "cell_type": "code",
   "execution_count": null,
   "id": "95d7b1b4",
   "metadata": {},
   "outputs": [],
   "source": [
    "# Group the property locations by fire perimeter to count the number of properties in each fire perimeter\n",
    "property_locations_by_perimeter = property_locations_joined.groupby('OBJECTID')['Address'].agg(['count']).reset_index()"
   ]
  },
  {
   "cell_type": "code",
   "execution_count": null,
   "id": "5e844997",
   "metadata": {},
   "outputs": [],
   "source": [
    "# Merge the fire perimeter geodataframe with the property counts dataframe\n",
    "fire_perimeters_count_gdf = fire_perimeters_filtered_gdf.merge(property_locations_by_perimeter, on='OBJECTID', how='left')"
   ]
  },
  {
   "cell_type": "code",
   "execution_count": null,
   "id": "0191bbe9",
   "metadata": {},
   "outputs": [],
   "source": [
    "# Perform a spatial join between the fire perimeters and property locations\n",
    "joined_gdf = gpd.sjoin(fire_perimeters_filtered_gdf, property_locations_gdf, how='left', predicate='contains')\n",
    "\n",
    "print(joined_gdf.columns)\n",
    "\n",
    "# Count the number of property locations per fire perimeter\n",
    "property_counts = joined_gdf.groupby('poly_Incid')['Latitude'].count()\n",
    "\n",
    "# Sort the fire perimeters by the count of properties in each perimeter\n",
    "property_counts_sorted = property_counts.sort_values(ascending=False)\n",
    "\n",
    "# Print the counts for each fire perimeter in descending order\n",
    "for index, count in property_counts_sorted.items():\n",
    "    if count > 0:\n",
    "        print(f\"Fire perimeter {index} has {count} properties.\")"
   ]
  },
  {
   "cell_type": "code",
   "execution_count": null,
   "id": "1b044aa9",
   "metadata": {},
   "outputs": [],
   "source": [
    "# get the ObjectID of properties within fire perimeters\n",
    "properties_within_fire = property_locations_joined[property_locations_joined['poly_Incid'].notnull()]['ObjectID'].unique()\n",
    "\n",
    "# create a dictionary to store the ObjectID and associated fire\n",
    "objectid_fire_dict = {}\n",
    "\n",
    "# loop through the fire perimeters and their OBJECTID to find the associated properties\n",
    "for index, row in fire_perimeters_filtered_gdf.iterrows():\n",
    "    fire = row['poly_Incid']\n",
    "    properties = property_locations_joined[property_locations_joined['poly_Incid'] == fire]['ObjectID'].unique()\n",
    "    for prop in properties:\n",
    "        if prop in properties_within_fire:\n",
    "            if prop not in objectid_fire_dict:\n",
    "                objectid_fire_dict[prop] = []\n",
    "            objectid_fire_dict[prop].append(fire)\n",
    "\n",
    "# print the ObjectID and associated fires\n",
    "for prop, fires in objectid_fire_dict.items():\n",
    "    print(f\"ObjectID {prop} was within fire(s): {', '.join(fires)}\")\n"
   ]
  },
  {
   "cell_type": "code",
   "execution_count": null,
   "id": "64211955",
   "metadata": {},
   "outputs": [],
   "source": [
    "# create the folium map\n",
    "inclusion_map = folium.Map(location=[37.0902, -95.7129], zoom_start=4)\n",
    "\n",
    "# add the fire perimeters to the map\n",
    "folium.GeoJson(fire_perimeters_count_gdf[['OBJECTID', 'poly_Incid', 'geometry', 'count']].to_json(),\n",
    "               name='Fire Perimeters', \n",
    "               tooltip=folium.features.GeoJsonTooltip(fields=['poly_Incid', 'count'], aliases=['Fire', 'Property Count']),\n",
    "               style_function=lambda x: {'weight': 1, 'color': 'red', 'fillOpacity': 0.1},\n",
    "               highlight_function=lambda x: {'weight': 3, 'color': 'blue', 'fillOpacity': 0.2},\n",
    "               ).add_to(inclusion_map)\n",
    "\n",
    "# add the property locations to the map\n",
    "for idx, row in property_locations_joined.iterrows():\n",
    "    if row['poly_Incid'] in fire_perimeters_count_gdf['poly_Incid'].unique():\n",
    "        folium.CircleMarker(location=[row.geometry.y, row.geometry.x], radius=.1, color='blue', fill=True, fill_color='blue').add_to(inclusion_map)\n",
    "\n",
    "# display the map\n",
    "inclusion_map"
   ]
  },
  {
   "cell_type": "code",
   "execution_count": null,
   "id": "02143400",
   "metadata": {},
   "outputs": [],
   "source": [
    "# Save the map to HTML with the new file name\n",
    "inclusion_map.save('wildfire_inclusion_map' + '.html')\n",
    "print(\"Map Saved to Directory.\")"
   ]
  }
 ],
 "metadata": {
  "kernelspec": {
   "display_name": "Python 3 (ipykernel)",
   "language": "python",
   "name": "python3"
  },
  "language_info": {
   "codemirror_mode": {
    "name": "ipython",
    "version": 3
   },
   "file_extension": ".py",
   "mimetype": "text/x-python",
   "name": "python",
   "nbconvert_exporter": "python",
   "pygments_lexer": "ipython3",
   "version": "3.9.13"
  }
 },
 "nbformat": 4,
 "nbformat_minor": 5
}
