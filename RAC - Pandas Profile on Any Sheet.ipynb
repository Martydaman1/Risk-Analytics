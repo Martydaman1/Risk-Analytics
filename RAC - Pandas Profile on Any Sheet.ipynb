{
 "cells": [
  {
   "cell_type": "code",
   "execution_count": null,
   "id": "28dbf5df",
   "metadata": {},
   "outputs": [],
   "source": [
    "#Import Libraries\n",
    "from geopy.geocoders import Nominatim\n",
    "import pandas as pd\n",
    "import folium\n",
    "import geopandas as gpd\n",
    "import os\n",
    "import tkinter as tk\n",
    "import ydata_profiling\n",
    "from tkinter import Tk\n",
    "from tkinter import filedialog\n",
    "from ydata_profiling import ProfileReport"
   ]
  },
  {
   "cell_type": "code",
   "execution_count": null,
   "id": "84bef09f",
   "metadata": {},
   "outputs": [],
   "source": [
    "# Choose the input file using tkinter\n",
    "Tk().withdraw()\n",
    "file_path = filedialog.askopenfilename()"
   ]
  },
  {
   "cell_type": "code",
   "execution_count": null,
   "id": "7196c06b",
   "metadata": {},
   "outputs": [],
   "source": [
    "# Read in the Excel file as a pandas dataframe\n",
    "df = pd.read_excel(file_path)"
   ]
  },
  {
   "cell_type": "code",
   "execution_count": null,
   "id": "10ae85bb",
   "metadata": {},
   "outputs": [],
   "source": [
    "# Extract the base name of the file\n",
    "file_name = os.path.basename(file_path)"
   ]
  },
  {
   "cell_type": "code",
   "execution_count": null,
   "id": "bb1a6a1e",
   "metadata": {},
   "outputs": [],
   "source": [
    "# Remove the extension from the file name\n",
    "file_name_without_extension = os.path.splitext(file_name)[0]"
   ]
  },
  {
   "cell_type": "code",
   "execution_count": null,
   "id": "3b324f51",
   "metadata": {},
   "outputs": [],
   "source": [
    "print(file_name)\n",
    "print(df.columns)"
   ]
  },
  {
   "cell_type": "code",
   "execution_count": null,
   "id": "aa6cee85",
   "metadata": {},
   "outputs": [],
   "source": [
    "# Create a profile report\n",
    "profile = ProfileReport(df)\n",
    "profile.to_notebook_iframe()"
   ]
  },
  {
   "cell_type": "code",
   "execution_count": null,
   "id": "2453ffaf",
   "metadata": {},
   "outputs": [],
   "source": [
    "profile.to_file(file_name_without_extension + '_Pandas_Report')"
   ]
  }
 ],
 "metadata": {
  "kernelspec": {
   "display_name": "Python 3 (ipykernel)",
   "language": "python",
   "name": "python3"
  },
  "language_info": {
   "codemirror_mode": {
    "name": "ipython",
    "version": 3
   },
   "file_extension": ".py",
   "mimetype": "text/x-python",
   "name": "python",
   "nbconvert_exporter": "python",
   "pygments_lexer": "ipython3",
   "version": "3.9.13"
  }
 },
 "nbformat": 4,
 "nbformat_minor": 5
}
