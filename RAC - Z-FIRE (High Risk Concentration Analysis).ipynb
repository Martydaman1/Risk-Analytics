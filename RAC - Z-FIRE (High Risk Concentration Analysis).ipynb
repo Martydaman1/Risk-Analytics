{
 "cells": [
  {
   "cell_type": "code",
   "execution_count": null,
   "id": "d6ab2a29",
   "metadata": {},
   "outputs": [],
   "source": [
    "# Import and leverage the imported file for analysis\n",
    "import pandas as pd\n",
    "import openpyxl\n",
    "import os\n",
    "import tkinter as tk\n",
    "from tkinter import Tk\n",
    "from tkinter import filedialog\n",
    "import folium\n",
    "from sklearn.cluster import DBSCAN\n",
    "\n",
    "Tk().withdraw()\n",
    "file_path = filedialog.askopenfilename()"
   ]
  },
  {
   "cell_type": "code",
   "execution_count": null,
   "id": "79a48aac",
   "metadata": {},
   "outputs": [],
   "source": [
    "# Extract the base name of the file\n",
    "file_name = os.path.basename(file_path)\n",
    "\n",
    "# Remove the extension from the file name\n",
    "file_name_without_extension = os.path.splitext(file_name)[0]"
   ]
  },
  {
   "cell_type": "code",
   "execution_count": null,
   "id": "e98019e0",
   "metadata": {},
   "outputs": [],
   "source": [
    "# Read the Excel file into a DataFrame\n",
    "df = pd.read_excel(file_path)\n",
    "\n",
    "print(file_name)\n",
    "print(df.columns)"
   ]
  },
  {
   "cell_type": "code",
   "execution_count": null,
   "id": "1d6871a9",
   "metadata": {},
   "outputs": [],
   "source": [
    "# Load data from Excel file into DataFrame\n",
    "data = pd.read_excel(file_path)"
   ]
  },
  {
   "cell_type": "code",
   "execution_count": null,
   "id": "4c31f6a7",
   "metadata": {},
   "outputs": [],
   "source": [
    "# Check the data types and make any necessary changes\n",
    "df['level_1'] = pd.to_numeric(df['level_1'])\n",
    "df['level_2'] = pd.to_numeric(df['level_2'])\n",
    "\n",
    "# Select desired columns\n",
    "df = df[['ObjectID', 'Latitude', 'Longitude', 'level_1', 'level_2']]\n",
    "\n",
    "# Define the clustering parameters\n",
    "epsilon = 0.1\n",
    "minimum_samples = 3\n",
    "\n",
    "# Cluster the data using DBSCAN\n",
    "dbscan = DBSCAN(eps=epsilon, min_samples=minimum_samples)\n",
    "clusters = dbscan.fit_predict(df[['Longitude', 'Latitude']])\n",
    "\n",
    "# Add the cluster labels to the dataframe\n",
    "df['Cluster'] = clusters\n",
    "\n",
    "# Filter the high risk locations\n",
    "high_risk = df[(df['level_1'] > 4) & (df['level_2'] > 6)]\n",
    "\n",
    "# Filter clusters with less than 3 properties\n",
    "for cluster_id in high_risk['Cluster'].unique():\n",
    "    cluster_data = high_risk[high_risk['Cluster'] == cluster_id]\n",
    "    if cluster_id != -1 and len(cluster_data) < 3:\n",
    "        high_risk = high_risk[high_risk['Cluster'] != cluster_id]\n",
    "\n",
    "# Create a map centered on the mean latitude and longitude\n",
    "center_lat = df['Latitude'].mean()\n",
    "center_long = df['Longitude'].mean()\n",
    "map = folium.Map(location=[center_lat, center_long], zoom_start=10)\n",
    "\n",
    "# Add the high risk locations to the map and label the clusters\n",
    "for cluster_id in high_risk['Cluster'].unique():\n",
    "    cluster_data = high_risk[high_risk['Cluster'] == cluster_id]\n",
    "    if cluster_id == -1:\n",
    "        color = 'red'\n",
    "        cluster_name = 'Noise'\n",
    "    else:\n",
    "        color = 'green'\n",
    "        cluster_name = f'Cluster {cluster_id}'\n",
    "    cluster_count = len(cluster_data)\n",
    "    folium.CircleMarker(location=[cluster_data['Latitude'].mean(), cluster_data['Longitude'].mean()],\n",
    "                        radius=3,\n",
    "                        color=color,\n",
    "                        tooltip=f'{cluster_name}, Count: {cluster_count}',\n",
    "                        popup=f'Cluster Properties: {cluster_data[\"ObjectID\"].tolist()}').add_to(map)\n",
    "\n",
    "    # Print a list of properties for the cluster\n",
    "    print(f'{cluster_name}: {cluster_data[\"ObjectID\"].tolist()}')\n",
    "\n",
    "# Print a summary of cluster counts\n",
    "cluster_counts = high_risk.groupby('Cluster')['ObjectID'].count()\n",
    "print('\\nCluster Counts:')\n",
    "for cluster_id, count in cluster_counts.items():\n",
    "    if cluster_id == -1:\n",
    "        cluster_name = 'Noise'\n",
    "    else:\n",
    "        cluster_name = f'Cluster {cluster_id}'\n",
    "    print(f'{cluster_name}: {count}')"
   ]
  },
  {
   "cell_type": "code",
   "execution_count": null,
   "id": "add18696",
   "metadata": {},
   "outputs": [],
   "source": [
    "# Display the map\n",
    "map"
   ]
  },
  {
   "cell_type": "code",
   "execution_count": null,
   "id": "a09a088d",
   "metadata": {},
   "outputs": [],
   "source": [
    "# Save the map to HTML\n",
    "map.save(f\"{file_name}_risk_concentration_map.html\")\n",
    "print(\"Map Saved to Directory.\")"
   ]
  }
 ],
 "metadata": {
  "kernelspec": {
   "display_name": "Python 3 (ipykernel)",
   "language": "python",
   "name": "python3"
  },
  "language_info": {
   "codemirror_mode": {
    "name": "ipython",
    "version": 3
   },
   "file_extension": ".py",
   "mimetype": "text/x-python",
   "name": "python",
   "nbconvert_exporter": "python",
   "pygments_lexer": "ipython3",
   "version": "3.9.13"
  }
 },
 "nbformat": 4,
 "nbformat_minor": 5
}
