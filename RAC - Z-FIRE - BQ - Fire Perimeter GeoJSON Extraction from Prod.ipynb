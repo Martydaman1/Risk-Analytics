{
 "cells": [
  {
   "cell_type": "code",
   "execution_count": 3,
   "id": "045dd9ae",
   "metadata": {},
   "outputs": [
    {
     "name": "stdout",
     "output_type": "stream",
     "text": [
      "GeoJSON data saved to 'fire_perimeter_data.geojson'\n"
     ]
    }
   ],
   "source": [
    "import pandas as pd\n",
    "from google.cloud import bigquery\n",
    "from geojson import Feature, FeatureCollection, dumps\n",
    "from shapely import wkt\n",
    "from shapely.geometry import mapping\n",
    "\n",
    "# Instantiate the BigQuery client\n",
    "client = bigquery.Client()\n",
    "\n",
    "# Modify the SQL query to select only fire perimeter data, fire year, and fire name\n",
    "query = \"\"\"\n",
    "SELECT fire_name, fire_year, ST_AsText(fires.geog) as geometry\n",
    "FROM zestyai.atlas.wildland_fire_perimeters_all fires\n",
    "\"\"\"\n",
    "\n",
    "# Run the query and store the results in a dataframe\n",
    "query_job = client.query(query)  # Make an API request.\n",
    "df = query_job.to_dataframe()\n",
    "\n",
    "# Convert the dataframe to a list of GeoJSON features\n",
    "features = []\n",
    "for index, row in df.iterrows():\n",
    "    geometry = wkt.loads(row[\"geometry\"])\n",
    "    feature = Feature(\n",
    "        geometry=mapping(geometry),\n",
    "        properties={\n",
    "            \"fire_name\": row[\"fire_name\"],\n",
    "            \"fire_year\": row[\"fire_year\"]\n",
    "        }\n",
    "    )\n",
    "    features.append(feature)\n",
    "\n",
    "# Create a GeoJSON FeatureCollection\n",
    "feature_collection = FeatureCollection(features)\n",
    "\n",
    "# Convert the FeatureCollection to a GeoJSON string\n",
    "geojson = dumps(feature_collection)\n",
    "\n",
    "# Save the GeoJSON data to a file\n",
    "with open(\"fire_perimeter_data.geojson\", \"w\") as f:\n",
    "    f.write(geojson)\n",
    "\n",
    "print(\"GeoJSON data saved to 'fire_perimeter_data.geojson'\")"
   ]
  }
 ],
 "metadata": {
  "kernelspec": {
   "display_name": "Python 3 (ipykernel)",
   "language": "python",
   "name": "python3"
  },
  "language_info": {
   "codemirror_mode": {
    "name": "ipython",
    "version": 3
   },
   "file_extension": ".py",
   "mimetype": "text/x-python",
   "name": "python",
   "nbconvert_exporter": "python",
   "pygments_lexer": "ipython3",
   "version": "3.9.13"
  }
 },
 "nbformat": 4,
 "nbformat_minor": 5
}
