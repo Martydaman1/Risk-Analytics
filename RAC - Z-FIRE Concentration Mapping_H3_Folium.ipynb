{
 "cells": [
  {
   "cell_type": "code",
   "execution_count": null,
   "id": "d6ab2a29",
   "metadata": {},
   "outputs": [],
   "source": [
    "# Import and leverage the imported file for analysis\n",
    "import pandas as pd\n",
    "import openpyxl\n",
    "import os\n",
    "import tkinter as tk\n",
    "from tkinter import Tk\n",
    "from tkinter import filedialog\n",
    "import folium\n",
    "import numpy as np\n",
    "from h3 import h3\n",
    "\n",
    "Tk().withdraw()\n",
    "file_path = filedialog.askopenfilename()"
   ]
  },
  {
   "cell_type": "code",
   "execution_count": null,
   "id": "79a48aac",
   "metadata": {
    "tags": []
   },
   "outputs": [],
   "source": [
    "# Extract the base name of the file\n",
    "file_name = os.path.basename(file_path)\n",
    "\n",
    "# Remove the extension from the file name\n",
    "file_name_without_extension = os.path.splitext(file_name)[0]"
   ]
  },
  {
   "cell_type": "code",
   "execution_count": null,
   "id": "e98019e0",
   "metadata": {},
   "outputs": [],
   "source": [
    "# Read the Excel file into a DataFrame\n",
    "df = pd.read_excel(file_path)\n",
    "\n",
    "print(file_name)\n",
    "print(df.columns)"
   ]
  },
  {
   "cell_type": "code",
   "execution_count": null,
   "id": "1d6871a9",
   "metadata": {},
   "outputs": [],
   "source": [
    "# Load data from Excel file into DataFrame\n",
    "data = pd.read_excel(file_path)"
   ]
  },
  {
   "cell_type": "code",
   "execution_count": null,
   "id": "be18cd68-e821-41b9-9f0a-88c772e99027",
   "metadata": {},
   "outputs": [],
   "source": [
    "# Cleaning and preprocessing\n",
    "df = df.dropna(subset=['latitude', 'longitude'])\n",
    "numerical_cols = df.select_dtypes(include=[np.number]).columns\n",
    "df[numerical_cols] = df[numerical_cols].applymap(lambda x: 0 if (pd.isnull(x) or np.isinf(x)) else x)\n",
    "\n",
    "for col in df.columns:\n",
    "    if df[col].dtype == 'object':\n",
    "        df[col] = df[col].astype(str)\n",
    "\n",
    "date_cols = ['image_to_date', 'effective_date', 'Date of Loss']\n",
    "for col in date_cols:\n",
    "    if col in df.columns:\n",
    "        df[col] = df[col].astype(str)\n",
    "\n",
    "columns_to_drop = [\n",
    "    'address2', 'Claim No', 'CAT Number', 'Policy Form', 'Replacement Cost Method',\n",
    "    'Claim Estimate Cost (Full Replacement Cost)', 'Indemnity Paid', 'Indemnity Reserve',\n",
    "    'Total Loss Adjustment Expense Paid', 'Defense Cost Containment Paid', 'Defense Cost Containment Reserve',\n",
    "    'Public Adjuster', 'Attorney', 'Claim Status', 'Close Without Payment'\n",
    "]\n",
    "df = df.drop(columns=columns_to_drop, errors='ignore')"
   ]
  },
  {
   "cell_type": "code",
   "execution_count": null,
   "id": "e12dea5c-08b5-4fb3-9111-2cddac6e38a6",
   "metadata": {},
   "outputs": [],
   "source": [
    "# Convert lat-lon to H3 indexes\n",
    "resolution = 7\n",
    "df['h3_index'] = df.apply(lambda row: h3.geo_to_h3(row['latitude'], row['longitude'], resolution), axis=1)\n",
    "\n",
    "# Aggregate data by H3 index\n",
    "aggregated_data = df.groupby('h3_index').agg({\n",
    "    'zfire_AAL': 'sum',\n",
    "    'TIV (Cov A+B+C)': 'sum',\n",
    "    'external_id': 'count'\n",
    "}).rename(columns={'external_id': 'property_count'}).reset_index()"
   ]
  },
  {
   "cell_type": "code",
   "execution_count": null,
   "id": "e30c9ee1-a8a4-467d-9753-f841068e38ba",
   "metadata": {},
   "outputs": [],
   "source": [
    "# Normalize the AAL by the mean\n",
    "mean_aal = aggregated_data['zfire_AAL'].mean()\n",
    "aggregated_data['normalized_AAL'] = aggregated_data['zfire_AAL'] / mean_aal\n",
    "\n",
    "# Round the aggregate AAL to two decimal places\n",
    "aggregated_data['zfire_AAL'] = aggregated_data['zfire_AAL'].round(2)\n",
    "\n",
    "# Convert H3 back to lat-lon for visualization\n",
    "aggregated_data['latitude'] = aggregated_data['h3_index'].apply(lambda x: h3.h3_to_geo(x)[0])\n",
    "aggregated_data['longitude'] = aggregated_data['h3_index'].apply(lambda x: h3.h3_to_geo(x)[1])"
   ]
  },
  {
   "cell_type": "code",
   "execution_count": null,
   "id": "552afff6-ac16-41df-b099-5f9d4ea246b2",
   "metadata": {},
   "outputs": [],
   "source": [
    "# Create the map base\n",
    "m = folium.Map(location=[df['latitude'].mean(), df['longitude'].mean()], zoom_start=10, tiles='CartoDB Positron')\n",
    "\n",
    "# Create a feature group for properties\n",
    "property_layer = folium.FeatureGroup(name=\"Property Addresses\")\n",
    "\n",
    "# Add circle markers with a fixed radius (in meters) for property addresses\n",
    "for idx, row in df.iterrows():\n",
    "    folium.Circle(\n",
    "        location=[row['latitude'], row['longitude']],\n",
    "        radius=5,  # Fixed radius\n",
    "        tooltip=f\"Level 1: {row['level_1']}<br>Level 2: {row['level_2']}<br>External ID: {row['external_id']}\",\n",
    "        color=\"black\",\n",
    "        fill=True,\n",
    "        fill_color=\"black\"\n",
    "    ).add_to(property_layer)\n",
    "\n",
    "# Create a feature group for hexagons\n",
    "h3_layer = folium.FeatureGroup(name=\"H3 Hexagons\")\n",
    "\n",
    "# Use a logarithmic colormap to emphasize differences\n",
    "from branca.colormap import linear\n",
    "\n",
    "from branca.colormap import LinearColormap\n",
    "\n",
    "# Create a custom linear colormap transitioning from green to red\n",
    "colormap = LinearColormap(colors=['green', 'yellow', 'red'], index=[0, 0.5, aggregated_data['normalized_AAL'].max()], vmin=0, vmax=aggregated_data['normalized_AAL'].max()).to_step(10)\n",
    "colormap.caption = \"Normalized AAL\"\n",
    "m.add_child(colormap)\n",
    "\n",
    "# Add hexagons with tooltips and popups to the feature group\n",
    "for idx, row in aggregated_data.iterrows():\n",
    "    hex_coords = h3.h3_to_geo_boundary(row['h3_index'])\n",
    "    color = colormap(row['normalized_AAL'])  # Get the color for the cell based on the colormap\n",
    "\n",
    "    popup_content = f\"\"\"\n",
    "    <strong>H3 Index:</strong> {row['h3_index']}<br>\n",
    "    <strong>Total Properties:</strong> {row['property_count']}<br>\n",
    "    <strong>Aggregate AAL:</strong> ${row['zfire_AAL']:,}<br>\n",
    "    <strong>Aggregate TIV:</strong> ${row['TIV (Cov A+B+C)']:,}<br>\n",
    "    <strong>Normalized Aggregate AAL:</strong> {row['normalized_AAL']:.2f}\n",
    "    \"\"\"\n",
    "    \n",
    "    folium.Polygon(\n",
    "        locations=hex_coords,\n",
    "        fill=True,\n",
    "        color=\"gray\",  # or any other color for the faint border\n",
    "        fill_color=color,\n",
    "        fill_opacity=0.6,\n",
    "        popup=folium.Popup(popup_content, max_width=300)\n",
    "    ).add_to(h3_layer)\n",
    "\n",
    "property_layer.add_to(m)\n",
    "h3_layer.add_to(m)\n",
    "\n",
    "# Add the layer control to the map and save\n",
    "folium.LayerControl().add_to(m)\n",
    "m.save(\"folium_map.html\")\n",
    "m"
   ]
  },
  {
   "cell_type": "code",
   "execution_count": null,
   "id": "73cd7124-3986-4633-87ae-1277d79d0851",
   "metadata": {},
   "outputs": [],
   "source": [
    "# Export the DataFrames to an Excel file\n",
    "with pd.ExcelWriter(\"combined_data.xlsx\") as writer:\n",
    "    aggregated_data.to_excel(writer, sheet_name=\"Aggregated H3 Data\", index=False)\n",
    "    df.to_excel(writer, sheet_name=\"Properties with H3\", index=False)\n"
   ]
  },
  {
   "cell_type": "code",
   "execution_count": null,
   "id": "327ca503-f0e3-4233-bf7c-4be899ed1bda",
   "metadata": {},
   "outputs": [],
   "source": []
  }
 ],
 "metadata": {
  "kernelspec": {
   "display_name": "Python 3 (ipykernel)",
   "language": "python",
   "name": "python3"
  },
  "language_info": {
   "codemirror_mode": {
    "name": "ipython",
    "version": 3
   },
   "file_extension": ".py",
   "mimetype": "text/x-python",
   "name": "python",
   "nbconvert_exporter": "python",
   "pygments_lexer": "ipython3",
   "version": "3.9.18"
  }
 },
 "nbformat": 4,
 "nbformat_minor": 5
}
