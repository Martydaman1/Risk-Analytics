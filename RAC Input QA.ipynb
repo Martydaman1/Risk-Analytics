{
 "cells": [
  {
   "cell_type": "code",
   "execution_count": 116,
   "id": "2c706017",
   "metadata": {},
   "outputs": [],
   "source": [
    "# Import and leverage the imported file for analysis\n",
    "import pandas as pd\n",
    "import openpyxl\n",
    "import os\n",
    "import tkinter as tk\n",
    "from tkinter import Tk\n",
    "from tkinter import filedialog\n",
    "\n",
    "Tk().withdraw()\n",
    "file_path = filedialog.askopenfilename()"
   ]
  },
  {
   "cell_type": "code",
   "execution_count": 117,
   "id": "eff71cf2",
   "metadata": {},
   "outputs": [],
   "source": [
    "# Extract the base name of the file\n",
    "file_name = os.path.basename(file_path)\n",
    "\n",
    "# Remove the extension from the file name\n",
    "file_name_without_extension = os.path.splitext(file_name)[0]"
   ]
  },
  {
   "cell_type": "code",
   "execution_count": 118,
   "id": "8e003ad9",
   "metadata": {},
   "outputs": [
    {
     "name": "stdout",
     "output_type": "stream",
     "text": [
      "[Hartford pilot data] Zesty 100K Sample - External 01122023.xlsx\n",
      "Index(['Ref', 'Effective Date', 'Street', 'City', 'State', 'Zip', 'Lat',\n",
      "       'Long'],\n",
      "      dtype='object')\n"
     ]
    }
   ],
   "source": [
    "# Read the Excel file into a DataFrame\n",
    "df = pd.read_excel(file_path)\n",
    "\n",
    "print(file_name)\n",
    "print(df.columns)"
   ]
  },
  {
   "cell_type": "code",
   "execution_count": 119,
   "id": "3661b062",
   "metadata": {},
   "outputs": [],
   "source": [
    "# Define the possible names of the address columns\n",
    "address_columns = {\n",
    "    'street_and_house_number': ['Addr1','Risk Address','Street'],\n",
    "    'city': ['City','Risk City','city'],\n",
    "    'state_abbreviation': ['State','StateProvCd','Risk State'],\n",
    "    'postal_code': ['Risk Zip Code','PostalCd','Zip','Zip Code'],\n",
    "    'latitude': ['Lat', 'Risk Lat', 'lat'],\n",
    "    'longitude': ['Long','Risk Long','long']\n",
    "    }\n",
    "    \n",
    "# Check if any of the address column names are in the DataFrame\n",
    "address_column_mask = df.columns.isin(\n",
    "    address_columns['street_and_house_number'] +\n",
    "    address_columns['city'] +\n",
    "    address_columns['state_abbreviation'] +\n",
    "    address_columns['postal_code']\n",
    ")\n",
    "\n",
    "# Get the name of the column to use for each component\n",
    "street_and_house_number_col = list(set(df.columns) & set(address_columns['street_and_house_number']))[0]\n",
    "city_col = list(set(df.columns) & set(address_columns['city']))[0]\n",
    "state_abbreviation_col = list(set(df.columns) & set(address_columns['state_abbreviation']))[0]\n",
    "postal_code_col = list(set(df.columns) & set(address_columns['postal_code']))[0]\n",
    "\n",
    "# Select the first column that exists in the DataFrame\n",
    "for column, column_names in address_columns.items():\n",
    "    match = df.columns[df.columns.isin(column_names)].tolist()\n",
    "    if match:\n",
    "        address_columns[column] = match[0]\n",
    "\n",
    "if not any(address_column_mask):\n",
    "    raise ValueError('None of the specified address columns were found in the DataFrame')\n",
    "\n",
    "# Concatenate the address components into a single address string\n",
    "df['address'] = (\n",
    "    df[address_columns['street_and_house_number']].astype(str) + ', ' +\n",
    "    df[address_columns['city']].astype(str) + ', ' +\n",
    "    df[address_columns['state_abbreviation']].astype(str) + ' ' +\n",
    "    df[address_columns['postal_code']].astype(str)\n",
    ")"
   ]
  },
  {
   "cell_type": "code",
   "execution_count": 120,
   "id": "0082819f",
   "metadata": {},
   "outputs": [],
   "source": [
    "# Flag duplicates in the address column\n",
    "df['address_duplicate'] = df['address'].duplicated()\n",
    "    \n",
    "# Count the number of duplicates\n",
    "num_address_duplicates = df['address_duplicate'].sum()\n",
    "\n",
    "# Calculate the percentage of duplicates\n",
    "percent_address_duplicates = num_address_duplicates / df.shape[0] * 100\n",
    "    \n",
    "# Repeat the same steps for the latitude and longitude columns\n",
    "df['lat_long'] = df[address_columns['latitude']].astype(str) + ', ' + df[address_columns['longitude']].astype(str)\n",
    "df['lat_long_duplicate'] = df['lat_long'].duplicated()\n",
    "num_lat_long_duplicates = df['lat_long_duplicate'].sum()\n",
    "percent_lat_long_duplicates = num_lat_long_duplicates / df.shape[0] * 100"
   ]
  },
  {
   "cell_type": "code",
   "execution_count": 121,
   "id": "252bdc74",
   "metadata": {},
   "outputs": [
    {
     "name": "stdout",
     "output_type": "stream",
     "text": [
      "Number of duplicate addresses: 115\n",
      "Percentage of duplicate addresses:0.11%\n",
      "Number of duplicate lat/long pairs: 1221\n",
      "Percentage of duplicate lat/long pairs:1.22%\n"
     ]
    }
   ],
   "source": [
    "# Print the results\n",
    "print('Number of duplicate addresses:', num_address_duplicates)\n",
    "print('Percentage of duplicate addresses:{:.2f}%'.format(percent_address_duplicates))\n",
    "print('Number of duplicate lat/long pairs:',num_lat_long_duplicates)\n",
    "print('Percentage of duplicate lat/long pairs:{:.2f}%'.format(percent_lat_long_duplicates))"
   ]
  },
  {
   "cell_type": "code",
   "execution_count": 122,
   "id": "da83accf",
   "metadata": {},
   "outputs": [
    {
     "ename": "FileNotFoundError",
     "evalue": "[Errno 2] No such file or directory: ''",
     "output_type": "error",
     "traceback": [
      "\u001b[1;31m---------------------------------------------------------------------------\u001b[0m",
      "\u001b[1;31mFileNotFoundError\u001b[0m                         Traceback (most recent call last)",
      "\u001b[1;32m~\\AppData\\Local\\Temp\\ipykernel_20948\\4121090404.py\u001b[0m in \u001b[0;36m<module>\u001b[1;34m\u001b[0m\n\u001b[0;32m     23\u001b[0m \u001b[1;33m\u001b[0m\u001b[0m\n\u001b[0;32m     24\u001b[0m \u001b[1;31m# Write the original data to a new Excel file\u001b[0m\u001b[1;33m\u001b[0m\u001b[1;33m\u001b[0m\u001b[0m\n\u001b[1;32m---> 25\u001b[1;33m \u001b[0mdf\u001b[0m\u001b[1;33m.\u001b[0m\u001b[0mto_excel\u001b[0m\u001b[1;33m(\u001b[0m\u001b[0mfile_path\u001b[0m\u001b[1;33m,\u001b[0m \u001b[0mengine\u001b[0m\u001b[1;33m=\u001b[0m\u001b[1;34m'openpyxl'\u001b[0m\u001b[1;33m,\u001b[0m \u001b[0mindex\u001b[0m\u001b[1;33m=\u001b[0m\u001b[1;32mFalse\u001b[0m\u001b[1;33m)\u001b[0m\u001b[1;33m\u001b[0m\u001b[1;33m\u001b[0m\u001b[0m\n\u001b[0m\u001b[0;32m     26\u001b[0m \u001b[1;33m\u001b[0m\u001b[0m\n\u001b[0;32m     27\u001b[0m \u001b[1;31m# Append the results to the same Excel file\u001b[0m\u001b[1;33m\u001b[0m\u001b[1;33m\u001b[0m\u001b[0m\n",
      "\u001b[1;32m~\\anaconda3\\lib\\site-packages\\pandas\\core\\generic.py\u001b[0m in \u001b[0;36mto_excel\u001b[1;34m(self, excel_writer, sheet_name, na_rep, float_format, columns, header, index, index_label, startrow, startcol, engine, merge_cells, encoding, inf_rep, verbose, freeze_panes, storage_options)\u001b[0m\n\u001b[0;32m   2343\u001b[0m             \u001b[0minf_rep\u001b[0m\u001b[1;33m=\u001b[0m\u001b[0minf_rep\u001b[0m\u001b[1;33m,\u001b[0m\u001b[1;33m\u001b[0m\u001b[1;33m\u001b[0m\u001b[0m\n\u001b[0;32m   2344\u001b[0m         )\n\u001b[1;32m-> 2345\u001b[1;33m         formatter.write(\n\u001b[0m\u001b[0;32m   2346\u001b[0m             \u001b[0mexcel_writer\u001b[0m\u001b[1;33m,\u001b[0m\u001b[1;33m\u001b[0m\u001b[1;33m\u001b[0m\u001b[0m\n\u001b[0;32m   2347\u001b[0m             \u001b[0msheet_name\u001b[0m\u001b[1;33m=\u001b[0m\u001b[0msheet_name\u001b[0m\u001b[1;33m,\u001b[0m\u001b[1;33m\u001b[0m\u001b[1;33m\u001b[0m\u001b[0m\n",
      "\u001b[1;32m~\\anaconda3\\lib\\site-packages\\pandas\\io\\formats\\excel.py\u001b[0m in \u001b[0;36mwrite\u001b[1;34m(self, writer, sheet_name, startrow, startcol, freeze_panes, engine, storage_options)\u001b[0m\n\u001b[0;32m    886\u001b[0m             \u001b[1;31m# error: Cannot instantiate abstract class 'ExcelWriter' with abstract\u001b[0m\u001b[1;33m\u001b[0m\u001b[1;33m\u001b[0m\u001b[0m\n\u001b[0;32m    887\u001b[0m             \u001b[1;31m# attributes 'engine', 'save', 'supported_extensions' and 'write_cells'\u001b[0m\u001b[1;33m\u001b[0m\u001b[1;33m\u001b[0m\u001b[0m\n\u001b[1;32m--> 888\u001b[1;33m             writer = ExcelWriter(  # type: ignore[abstract]\n\u001b[0m\u001b[0;32m    889\u001b[0m                 \u001b[0mwriter\u001b[0m\u001b[1;33m,\u001b[0m \u001b[0mengine\u001b[0m\u001b[1;33m=\u001b[0m\u001b[0mengine\u001b[0m\u001b[1;33m,\u001b[0m \u001b[0mstorage_options\u001b[0m\u001b[1;33m=\u001b[0m\u001b[0mstorage_options\u001b[0m\u001b[1;33m\u001b[0m\u001b[1;33m\u001b[0m\u001b[0m\n\u001b[0;32m    890\u001b[0m             )\n",
      "\u001b[1;32m~\\anaconda3\\lib\\site-packages\\pandas\\io\\excel\\_openpyxl.py\u001b[0m in \u001b[0;36m__init__\u001b[1;34m(self, path, engine, date_format, datetime_format, mode, storage_options, if_sheet_exists, engine_kwargs, **kwargs)\u001b[0m\n\u001b[0;32m     51\u001b[0m         \u001b[0mengine_kwargs\u001b[0m \u001b[1;33m=\u001b[0m \u001b[0mcombine_kwargs\u001b[0m\u001b[1;33m(\u001b[0m\u001b[0mengine_kwargs\u001b[0m\u001b[1;33m,\u001b[0m \u001b[0mkwargs\u001b[0m\u001b[1;33m)\u001b[0m\u001b[1;33m\u001b[0m\u001b[1;33m\u001b[0m\u001b[0m\n\u001b[0;32m     52\u001b[0m \u001b[1;33m\u001b[0m\u001b[0m\n\u001b[1;32m---> 53\u001b[1;33m         super().__init__(\n\u001b[0m\u001b[0;32m     54\u001b[0m             \u001b[0mpath\u001b[0m\u001b[1;33m,\u001b[0m\u001b[1;33m\u001b[0m\u001b[1;33m\u001b[0m\u001b[0m\n\u001b[0;32m     55\u001b[0m             \u001b[0mmode\u001b[0m\u001b[1;33m=\u001b[0m\u001b[0mmode\u001b[0m\u001b[1;33m,\u001b[0m\u001b[1;33m\u001b[0m\u001b[1;33m\u001b[0m\u001b[0m\n",
      "\u001b[1;32m~\\anaconda3\\lib\\site-packages\\pandas\\io\\excel\\_base.py\u001b[0m in \u001b[0;36m__init__\u001b[1;34m(self, path, engine, date_format, datetime_format, mode, storage_options, if_sheet_exists, engine_kwargs, **kwargs)\u001b[0m\n\u001b[0;32m   1104\u001b[0m         )\n\u001b[0;32m   1105\u001b[0m         \u001b[1;32mif\u001b[0m \u001b[1;32mnot\u001b[0m \u001b[0misinstance\u001b[0m\u001b[1;33m(\u001b[0m\u001b[0mpath\u001b[0m\u001b[1;33m,\u001b[0m \u001b[0mExcelWriter\u001b[0m\u001b[1;33m)\u001b[0m\u001b[1;33m:\u001b[0m\u001b[1;33m\u001b[0m\u001b[1;33m\u001b[0m\u001b[0m\n\u001b[1;32m-> 1106\u001b[1;33m             self.handles = get_handle(\n\u001b[0m\u001b[0;32m   1107\u001b[0m                 \u001b[0mpath\u001b[0m\u001b[1;33m,\u001b[0m \u001b[0mmode\u001b[0m\u001b[1;33m,\u001b[0m \u001b[0mstorage_options\u001b[0m\u001b[1;33m=\u001b[0m\u001b[0mstorage_options\u001b[0m\u001b[1;33m,\u001b[0m \u001b[0mis_text\u001b[0m\u001b[1;33m=\u001b[0m\u001b[1;32mFalse\u001b[0m\u001b[1;33m\u001b[0m\u001b[1;33m\u001b[0m\u001b[0m\n\u001b[0;32m   1108\u001b[0m             )\n",
      "\u001b[1;32m~\\anaconda3\\lib\\site-packages\\pandas\\io\\common.py\u001b[0m in \u001b[0;36mget_handle\u001b[1;34m(path_or_buf, mode, encoding, compression, memory_map, is_text, errors, storage_options)\u001b[0m\n\u001b[0;32m    793\u001b[0m         \u001b[1;32melse\u001b[0m\u001b[1;33m:\u001b[0m\u001b[1;33m\u001b[0m\u001b[1;33m\u001b[0m\u001b[0m\n\u001b[0;32m    794\u001b[0m             \u001b[1;31m# Binary mode\u001b[0m\u001b[1;33m\u001b[0m\u001b[1;33m\u001b[0m\u001b[0m\n\u001b[1;32m--> 795\u001b[1;33m             \u001b[0mhandle\u001b[0m \u001b[1;33m=\u001b[0m \u001b[0mopen\u001b[0m\u001b[1;33m(\u001b[0m\u001b[0mhandle\u001b[0m\u001b[1;33m,\u001b[0m \u001b[0mioargs\u001b[0m\u001b[1;33m.\u001b[0m\u001b[0mmode\u001b[0m\u001b[1;33m)\u001b[0m\u001b[1;33m\u001b[0m\u001b[1;33m\u001b[0m\u001b[0m\n\u001b[0m\u001b[0;32m    796\u001b[0m         \u001b[0mhandles\u001b[0m\u001b[1;33m.\u001b[0m\u001b[0mappend\u001b[0m\u001b[1;33m(\u001b[0m\u001b[0mhandle\u001b[0m\u001b[1;33m)\u001b[0m\u001b[1;33m\u001b[0m\u001b[1;33m\u001b[0m\u001b[0m\n\u001b[0;32m    797\u001b[0m \u001b[1;33m\u001b[0m\u001b[0m\n",
      "\u001b[1;31mFileNotFoundError\u001b[0m: [Errno 2] No such file or directory: ''"
     ]
    }
   ],
   "source": [
    "import pandas as pd\n",
    "from tkinter import filedialog\n",
    "import tkinter as tk\n",
    "\n",
    "# Create a dataframe with the results\n",
    "duplicate_results = {'Duplicate Addresses': [num_address_duplicates],\n",
    "'Percentage of Duplicate Addresses': percent_address_duplicates / 100,\n",
    "'Duplicate Lat/Long Pairs': [num_lat_long_duplicates],\n",
    "'Percentage of Duplicate Lat/Long Pairs': percent_lat_long_duplicates / 100}\n",
    "\n",
    "# Format the percentage values in the dataframe as a string with a percentage symbol\n",
    "duplicate_results_df = pd.DataFrame(duplicate_results).style.format({'Percentage of Duplicate Addresses': '{:.2%}',\n",
    "                                                                      'Percentage of Duplicate Lat/Long Pairs': '{:.2%}'})\n",
    "\n",
    "duplicate_results_df = pd.DataFrame(duplicate_results)\n",
    "\n",
    "# Create a file dialog to allow the user to select the save location\n",
    "root = tk.Tk()\n",
    "root.withdraw()\n",
    "default_file_name = file_name_without_extension + \"_duplicate_QA_Check.xlsx\"\n",
    "file_path = filedialog.asksaveasfilename(defaultextension='.xlsx', initialfile=default_file_name)\n",
    "\n",
    "\n",
    "# Write the original data to a new Excel file\n",
    "df.to_excel(file_path, engine='openpyxl', index=False)\n",
    "\n",
    "# Append the results to the same Excel file\n",
    "book = openpyxl.load_workbook(file_path)\n",
    "writer = pd.ExcelWriter(file_path, engine='openpyxl')\n",
    "writer.book = book\n",
    "duplicate_results_df.to_excel(writer, sheet_name='Duplicate Results Report', index=False)\n",
    "writer.save()\n",
    "writer.close()"
   ]
  },
  {
   "cell_type": "code",
   "execution_count": null,
   "id": "1c0f4987",
   "metadata": {},
   "outputs": [],
   "source": []
  }
 ],
 "metadata": {
  "kernelspec": {
   "display_name": "Python 3 (ipykernel)",
   "language": "python",
   "name": "python3"
  },
  "language_info": {
   "codemirror_mode": {
    "name": "ipython",
    "version": 3
   },
   "file_extension": ".py",
   "mimetype": "text/x-python",
   "name": "python",
   "nbconvert_exporter": "python",
   "pygments_lexer": "ipython3",
   "version": "3.9.13"
  }
 },
 "nbformat": 4,
 "nbformat_minor": 5
}
